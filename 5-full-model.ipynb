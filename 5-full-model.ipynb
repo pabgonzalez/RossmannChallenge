{
 "cells": [
  {
   "cell_type": "code",
   "execution_count": 103,
   "metadata": {},
   "outputs": [
    {
     "name": "stderr",
     "output_type": "stream",
     "text": [
      "c:\\Users\\Usuario\\Documents\\TP1_RossmannStoreSales\\venv\\lib\\site-packages\\tensorflow\\python\\client\\session.py:1768: UserWarning: An interactive session is already active. This can cause out-of-memory errors in some cases. You must explicitly call `InteractiveSession.close()` to release resources held by the other session(s).\n",
      "  warnings.warn('An interactive session is already active. This can '\n"
     ]
    }
   ],
   "source": [
    "from tensorflow.compat.v1 import ConfigProto\n",
    "from tensorflow.compat.v1 import InteractiveSession\n",
    "config = ConfigProto()\n",
    "config.gpu_options.allow_growth = True\n",
    "session = InteractiveSession(config=config)"
   ]
  },
  {
   "cell_type": "code",
   "execution_count": 104,
   "metadata": {},
   "outputs": [],
   "source": [
    "import pandas as pd\n",
    "import numpy as np\n",
    "import datetime\n",
    "from pandas_summary import DataFrameSummary"
   ]
  },
  {
   "cell_type": "code",
   "execution_count": 105,
   "metadata": {},
   "outputs": [],
   "source": [
    "from tensorflow.keras.utils import to_categorical"
   ]
  },
  {
   "cell_type": "code",
   "execution_count": 106,
   "metadata": {},
   "outputs": [],
   "source": [
    "df = pd.read_feather('preprocessed_dfs/train_normalized_data.fth')\n",
    "df_test = pd.read_feather('preprocessed_dfs/test_normalized_data.fth')"
   ]
  },
  {
   "cell_type": "code",
   "execution_count": 107,
   "metadata": {},
   "outputs": [
    {
     "data": {
      "text/html": [
       "<div>\n",
       "<style scoped>\n",
       "    .dataframe tbody tr th:only-of-type {\n",
       "        vertical-align: middle;\n",
       "    }\n",
       "\n",
       "    .dataframe tbody tr th {\n",
       "        vertical-align: top;\n",
       "    }\n",
       "\n",
       "    .dataframe thead th {\n",
       "        text-align: right;\n",
       "    }\n",
       "</style>\n",
       "<table border=\"1\" class=\"dataframe\">\n",
       "  <thead>\n",
       "    <tr style=\"text-align: right;\">\n",
       "      <th></th>\n",
       "      <th>uniques</th>\n",
       "    </tr>\n",
       "  </thead>\n",
       "  <tbody>\n",
       "    <tr>\n",
       "      <th>Store</th>\n",
       "      <td>1115</td>\n",
       "    </tr>\n",
       "    <tr>\n",
       "      <th>DayOfWeek</th>\n",
       "      <td>7</td>\n",
       "    </tr>\n",
       "    <tr>\n",
       "      <th>Year</th>\n",
       "      <td>3</td>\n",
       "    </tr>\n",
       "    <tr>\n",
       "      <th>Month</th>\n",
       "      <td>12</td>\n",
       "    </tr>\n",
       "    <tr>\n",
       "      <th>Day</th>\n",
       "      <td>31</td>\n",
       "    </tr>\n",
       "    <tr>\n",
       "      <th>StateHoliday</th>\n",
       "      <td>4</td>\n",
       "    </tr>\n",
       "    <tr>\n",
       "      <th>CompetitionMonthsOpen</th>\n",
       "      <td>25</td>\n",
       "    </tr>\n",
       "    <tr>\n",
       "      <th>Promo2Weeks</th>\n",
       "      <td>26</td>\n",
       "    </tr>\n",
       "    <tr>\n",
       "      <th>StoreType</th>\n",
       "      <td>4</td>\n",
       "    </tr>\n",
       "    <tr>\n",
       "      <th>Assortment</th>\n",
       "      <td>3</td>\n",
       "    </tr>\n",
       "    <tr>\n",
       "      <th>PromoInterval</th>\n",
       "      <td>4</td>\n",
       "    </tr>\n",
       "    <tr>\n",
       "      <th>CompetitionOpenSinceYear</th>\n",
       "      <td>21</td>\n",
       "    </tr>\n",
       "    <tr>\n",
       "      <th>Promo2SinceYear</th>\n",
       "      <td>8</td>\n",
       "    </tr>\n",
       "    <tr>\n",
       "      <th>State</th>\n",
       "      <td>12</td>\n",
       "    </tr>\n",
       "    <tr>\n",
       "      <th>Week</th>\n",
       "      <td>52</td>\n",
       "    </tr>\n",
       "    <tr>\n",
       "      <th>Events</th>\n",
       "      <td>22</td>\n",
       "    </tr>\n",
       "    <tr>\n",
       "      <th>Promo_fw</th>\n",
       "      <td>6</td>\n",
       "    </tr>\n",
       "    <tr>\n",
       "      <th>Promo_bw</th>\n",
       "      <td>6</td>\n",
       "    </tr>\n",
       "    <tr>\n",
       "      <th>StateHoliday_bool_fw</th>\n",
       "      <td>3</td>\n",
       "    </tr>\n",
       "    <tr>\n",
       "      <th>StateHoliday_bool_bw</th>\n",
       "      <td>3</td>\n",
       "    </tr>\n",
       "    <tr>\n",
       "      <th>SchoolHoliday_fw</th>\n",
       "      <td>8</td>\n",
       "    </tr>\n",
       "    <tr>\n",
       "      <th>SchoolHoliday_bw</th>\n",
       "      <td>8</td>\n",
       "    </tr>\n",
       "  </tbody>\n",
       "</table>\n",
       "</div>"
      ],
      "text/plain": [
       "                         uniques\n",
       "Store                       1115\n",
       "DayOfWeek                      7\n",
       "Year                           3\n",
       "Month                         12\n",
       "Day                           31\n",
       "StateHoliday                   4\n",
       "CompetitionMonthsOpen         25\n",
       "Promo2Weeks                   26\n",
       "StoreType                      4\n",
       "Assortment                     3\n",
       "PromoInterval                  4\n",
       "CompetitionOpenSinceYear      21\n",
       "Promo2SinceYear                8\n",
       "State                         12\n",
       "Week                          52\n",
       "Events                        22\n",
       "Promo_fw                       6\n",
       "Promo_bw                       6\n",
       "StateHoliday_bool_fw           3\n",
       "StateHoliday_bool_bw           3\n",
       "SchoolHoliday_fw               8\n",
       "SchoolHoliday_bw               8"
      ]
     },
     "execution_count": 107,
     "metadata": {},
     "output_type": "execute_result"
    }
   ],
   "source": [
    "cat_vars = ['Store', 'DayOfWeek', 'Year', 'Month', 'Day', 'StateHoliday', 'CompetitionMonthsOpen', 'Promo2Weeks', \n",
    "            'StoreType', 'Assortment', 'PromoInterval', 'CompetitionOpenSinceYear', 'Promo2SinceYear', 'State', \n",
    "            'Week', 'Events', 'Promo_fw', 'Promo_bw', 'StateHoliday_bool_fw', 'StateHoliday_bool_bw', 'SchoolHoliday_fw', 'SchoolHoliday_bw']\n",
    "\n",
    "\n",
    "contin_vars = ['CompetitionDistance', \n",
    "   'Max_TemperatureC',\n",
    "   # 'Mean_TemperatureC',\n",
    "   # 'Min_TemperatureC',\n",
    "   'Precipitationmm',\n",
    "   # 'Max_Humidity', 'Mean_Humidity', 'Min_Humidity', 'Max_Wind_SpeedKm_h', \n",
    "   # 'Mean_Wind_SpeedKm_h', 'CloudCover',\n",
    "   #'trend', 'trend_DE',\n",
    "   # 'AfterStateHoliday', 'BeforeStateHoliday_bool', 'Promo', 'SchoolHoliday', 'StateHoliday_bool'\n",
    "   ]\n",
    "\n",
    "uniques = DataFrameSummary(df[cat_vars]).summary().loc[['uniques']]\n",
    "uniques.T"
   ]
  },
  {
   "cell_type": "markdown",
   "metadata": {},
   "source": [
    "### Entity Embeddings\n",
    "\n",
    "Dado que las redes neuronales trabajan en el conjunto de los números reales, representar categorías con un entero no suele funcionar bien. Para solucionar esto se puede usar one-hot encoding o entity embeddings. One-hot encoding tiene dos problemas que no tiene entity embeddings:\n",
    "\n",
    "1. Si las categorías son muchas se consume mucho poder computacional para entrenar el modelo. Por ejemplo, hay 1115 tiendas en este problema.\n",
    "2. La red trata los distintos one-hot vectors como entidades indepedientes. Es decir, no aprende nada sobre la interrelación entre categorías. Por ejemplo, quizás hay tiendas que suelen tener ventas parecidas y eso puede usarse para mejorar la predicción.\n",
    "\n",
    "Entity embedding es una representación vectorial de alguna entidad (en este caso de categorías). Para esta aplicación, la idea detrás de Entity Embeddings es representar variables categoricas (discretas) en un espacio continuo. Es decir, que el modelo pueda aprender una representación contínua dadas ciertas categorías. La representación se dará a través de vectores en un espacio multidimensional (la dimensión es a lo sumo igual a la cantidad de categorías), de forma que la cercanía entre vectores denota una mayor dependencia entre esas categorías. La clave es que la red aprende a representar la continuidad intrínseca del problema.\n",
    "\n",
    "Matemáticamente, para N categorías se entra con un one-hot vector de Nx1 o con un índice i a una matriz de M*N, donde M es la dimensión del espacio donde se representan las categorías. La salida de esta operación es la columna i-ésima de la matriz. Como lo que se entrena es la matriz, el modelo entrena la representación de las categorías en un espacio M-dimensional.\n",
    "\n",
    "https://arxiv.org/pdf/1604.06737.pdf"
   ]
  },
  {
   "cell_type": "markdown",
   "metadata": {},
   "source": [
    "Dimensión de los Entity Embeddings"
   ]
  },
  {
   "cell_type": "code",
   "execution_count": 108,
   "metadata": {},
   "outputs": [
    {
     "name": "stdout",
     "output_type": "stream",
     "text": [
      "Store 10 1115 [   0    1    2 ... 1112 1113 1114]\n",
      "DayOfWeek 6 7 [0 1 2 3 4 5 6]\n",
      "Year 2 3 [0 1 2]\n",
      "Month 6 12 [ 0  1  2  3  4  5  6  7  8  9 10 11]\n",
      "Day 5 31 [ 0  1  2  3  4  5  6  7  8  9 10 11 12 13 14 15 16 17 18 19 20 21 22 23\n",
      " 24 25 26 27 28 29 30]\n",
      "StateHoliday 4 4 [0 1 2 3]\n",
      "CompetitionMonthsOpen 5 25 [ 0  1  2  3  4  5  6  7  8  9 10 11 12 13 14 15 16 17 18 19 20 21 22 23\n",
      " 24]\n",
      "Promo2Weeks 5 26 [ 0  1  2  3  4  5  6  7  8  9 10 11 12 13 14 15 16 17 18 19 20 21 22 23\n",
      " 24 25]\n",
      "StoreType 2 4 [0 1 2 3]\n",
      "Assortment 3 3 [0 1 2]\n",
      "PromoInterval 3 4 [0 1 2 3]\n",
      "CompetitionOpenSinceYear 4 21 [ 0  1  2  3  4  5  6  7  8  9 10 11 12 13 14 15 16 17 18 19 20]\n",
      "Promo2SinceYear 4 8 [0 1 2 3 4 5 6 7]\n",
      "State 6 12 [ 0  1  2  3  4  5  6  7  8  9 10 11]\n",
      "Week 10 52 [ 0  1  2  3  4  5  6  7  8  9 10 11 12 13 14 15 16 17 18 19 20 21 22 23\n",
      " 24 25 26 27 28 29 30 31 32 33 34 35 36 37 38 39 40 41 42 43 44 45 46 47\n",
      " 48 49 50 51]\n",
      "Events 4 22 [ 0  1  2  3  4  5  6  7  8  9 10 11 12 13 14 15 16 17 18 19 20 21]\n",
      "Promo_fw 2 6 [0 1 2 3 4 5]\n",
      "Promo_bw 2 6 [0 1 2 3 4 5]\n",
      "StateHoliday_bool_fw 2 3 [0 1 2]\n",
      "StateHoliday_bool_bw 2 3 [0 1 2]\n",
      "SchoolHoliday_fw 2 8 [0 1 2 3 4 5 6 7]\n",
      "SchoolHoliday_bw 2 8 [0 1 2 3 4 5 6 7]\n"
     ]
    }
   ],
   "source": [
    "cat_var_dict = {'Store': 10, 'DayOfWeek': 6, 'Year': 2, 'Month': 6,\n",
    "'Day': 5, 'StateHoliday': 4, 'CompetitionMonthsOpen': 5,\n",
    "'Promo2Weeks': 5, 'StoreType': 2, 'Assortment': 3, 'PromoInterval': 3,\n",
    "'CompetitionOpenSinceYear': 4, 'Promo2SinceYear': 4, 'State': 6,\n",
    "'Week': 10, 'Events': 4, 'Promo_fw': 2,\n",
    "'Promo_bw': 2, 'StateHoliday_bool_fw': 2,\n",
    "'StateHoliday_bool_bw': 2, 'SchoolHoliday_fw': 2,\n",
    "'SchoolHoliday_bw': 2\n",
    "}\n",
    "\n",
    "for v in cat_vars:\n",
    "    uniques_ = df[v].unique()\n",
    "    uniques_.sort()\n",
    "    print(v, cat_var_dict[v], len(uniques_), uniques_)"
   ]
  },
  {
   "cell_type": "markdown",
   "metadata": {},
   "source": [
    "## Modelo"
   ]
  },
  {
   "cell_type": "code",
   "execution_count": 109,
   "metadata": {},
   "outputs": [],
   "source": [
    "add_customers = True\n",
    "log_output = True\n",
    "output_activation = 'linear'"
   ]
  },
  {
   "cell_type": "code",
   "execution_count": 110,
   "metadata": {},
   "outputs": [],
   "source": [
    "from tensorflow.keras.models import Model\n",
    "from tensorflow.keras.callbacks import ModelCheckpoint\n",
    "from tensorflow.keras.optimizers import Adam\n",
    "from tensorflow.keras.layers import Embedding, Input, Flatten, Concatenate, Dense, BatchNormalization, Activation, LeakyReLU, Dropout\n",
    "from tensorflow.keras.regularizers import l2"
   ]
  },
  {
   "cell_type": "code",
   "execution_count": 111,
   "metadata": {},
   "outputs": [],
   "source": [
    "def get_cat_vars_model(cat_vars, uniques, cat_var_dict):\n",
    "    cat_vars_embed_outs = []\n",
    "    cat_var_inputs = []\n",
    "    for cat_var in cat_vars:\n",
    "        cat_var_in = Input(shape=(1,), name=f\"{cat_var}_input\")\n",
    "        cat_var_inputs.append(cat_var_in)\n",
    "        embed_out = Embedding(uniques[cat_var][0], cat_var_dict[cat_var], name=f'{cat_var}_Embed')(cat_var_in)\n",
    "        flatten_out = Flatten(name=f\"{cat_var}_flat\")(embed_out)\n",
    "        cat_vars_embed_outs.append(flatten_out)\n",
    "    return cat_var_inputs, cat_vars_embed_outs\n",
    "\n",
    "def get_cont_vars_input(contin_vars, dense_layer=False):\n",
    "    cont_vars_inputs = []\n",
    "    cont_vars_outputs = []\n",
    "    for cont_var in contin_vars:\n",
    "        cont_var_in = Input(shape=(1,), name=f\"{cont_var}_input\")\n",
    "        cont_vars_inputs.append(cont_var_in)\n",
    "        if dense_layer:\n",
    "            cont_var_out = Dense(1, name=f\"{cont_var}_input\", activation = 'linear')(cont_var_in)\n",
    "            cont_vars_outputs.append(cont_var_out)\n",
    "        else:\n",
    "            cont_vars_outputs.append(cont_var_in)\n",
    "    return cont_vars_inputs, cont_vars_outputs"
   ]
  },
  {
   "cell_type": "code",
   "execution_count": 112,
   "metadata": {},
   "outputs": [],
   "source": [
    "cat_var_inputs, cat_vars_embed_outs = get_cat_vars_model(cat_vars, uniques, cat_var_dict)\n",
    "cont_vars_inputs,  cont_vars_outs= get_cont_vars_input(contin_vars)"
   ]
  },
  {
   "cell_type": "code",
   "execution_count": 113,
   "metadata": {},
   "outputs": [
    {
     "name": "stdout",
     "output_type": "stream",
     "text": [
      "[<KerasTensor: shape=(None, 10) dtype=float32 (created by layer 'Store_flat')>, <KerasTensor: shape=(None, 6) dtype=float32 (created by layer 'DayOfWeek_flat')>, <KerasTensor: shape=(None, 2) dtype=float32 (created by layer 'Year_flat')>, <KerasTensor: shape=(None, 6) dtype=float32 (created by layer 'Month_flat')>, <KerasTensor: shape=(None, 5) dtype=float32 (created by layer 'Day_flat')>, <KerasTensor: shape=(None, 4) dtype=float32 (created by layer 'StateHoliday_flat')>, <KerasTensor: shape=(None, 5) dtype=float32 (created by layer 'CompetitionMonthsOpen_flat')>, <KerasTensor: shape=(None, 5) dtype=float32 (created by layer 'Promo2Weeks_flat')>, <KerasTensor: shape=(None, 2) dtype=float32 (created by layer 'StoreType_flat')>, <KerasTensor: shape=(None, 3) dtype=float32 (created by layer 'Assortment_flat')>, <KerasTensor: shape=(None, 3) dtype=float32 (created by layer 'PromoInterval_flat')>, <KerasTensor: shape=(None, 4) dtype=float32 (created by layer 'CompetitionOpenSinceYear_flat')>, <KerasTensor: shape=(None, 4) dtype=float32 (created by layer 'Promo2SinceYear_flat')>, <KerasTensor: shape=(None, 6) dtype=float32 (created by layer 'State_flat')>, <KerasTensor: shape=(None, 10) dtype=float32 (created by layer 'Week_flat')>, <KerasTensor: shape=(None, 4) dtype=float32 (created by layer 'Events_flat')>, <KerasTensor: shape=(None, 2) dtype=float32 (created by layer 'Promo_fw_flat')>, <KerasTensor: shape=(None, 2) dtype=float32 (created by layer 'Promo_bw_flat')>, <KerasTensor: shape=(None, 2) dtype=float32 (created by layer 'StateHoliday_bool_fw_flat')>, <KerasTensor: shape=(None, 2) dtype=float32 (created by layer 'StateHoliday_bool_bw_flat')>, <KerasTensor: shape=(None, 2) dtype=float32 (created by layer 'SchoolHoliday_fw_flat')>, <KerasTensor: shape=(None, 2) dtype=float32 (created by layer 'SchoolHoliday_bw_flat')>]\n",
      "[<KerasTensor: shape=(None, 1) dtype=float32 (created by layer 'Store_input')>, <KerasTensor: shape=(None, 1) dtype=float32 (created by layer 'DayOfWeek_input')>, <KerasTensor: shape=(None, 1) dtype=float32 (created by layer 'Year_input')>, <KerasTensor: shape=(None, 1) dtype=float32 (created by layer 'Month_input')>, <KerasTensor: shape=(None, 1) dtype=float32 (created by layer 'Day_input')>, <KerasTensor: shape=(None, 1) dtype=float32 (created by layer 'StateHoliday_input')>, <KerasTensor: shape=(None, 1) dtype=float32 (created by layer 'CompetitionMonthsOpen_input')>, <KerasTensor: shape=(None, 1) dtype=float32 (created by layer 'Promo2Weeks_input')>, <KerasTensor: shape=(None, 1) dtype=float32 (created by layer 'StoreType_input')>, <KerasTensor: shape=(None, 1) dtype=float32 (created by layer 'Assortment_input')>, <KerasTensor: shape=(None, 1) dtype=float32 (created by layer 'PromoInterval_input')>, <KerasTensor: shape=(None, 1) dtype=float32 (created by layer 'CompetitionOpenSinceYear_input')>, <KerasTensor: shape=(None, 1) dtype=float32 (created by layer 'Promo2SinceYear_input')>, <KerasTensor: shape=(None, 1) dtype=float32 (created by layer 'State_input')>, <KerasTensor: shape=(None, 1) dtype=float32 (created by layer 'Week_input')>, <KerasTensor: shape=(None, 1) dtype=float32 (created by layer 'Events_input')>, <KerasTensor: shape=(None, 1) dtype=float32 (created by layer 'Promo_fw_input')>, <KerasTensor: shape=(None, 1) dtype=float32 (created by layer 'Promo_bw_input')>, <KerasTensor: shape=(None, 1) dtype=float32 (created by layer 'StateHoliday_bool_fw_input')>, <KerasTensor: shape=(None, 1) dtype=float32 (created by layer 'StateHoliday_bool_bw_input')>, <KerasTensor: shape=(None, 1) dtype=float32 (created by layer 'SchoolHoliday_fw_input')>, <KerasTensor: shape=(None, 1) dtype=float32 (created by layer 'SchoolHoliday_bw_input')>]\n",
      "[<KerasTensor: shape=(None, 1) dtype=float32 (created by layer 'CompetitionDistance_input')>, <KerasTensor: shape=(None, 1) dtype=float32 (created by layer 'Max_TemperatureC_input')>, <KerasTensor: shape=(None, 1) dtype=float32 (created by layer 'Precipitationmm_input')>]\n",
      "[<KerasTensor: shape=(None, 1) dtype=float32 (created by layer 'CompetitionDistance_input')>, <KerasTensor: shape=(None, 1) dtype=float32 (created by layer 'Max_TemperatureC_input')>, <KerasTensor: shape=(None, 1) dtype=float32 (created by layer 'Precipitationmm_input')>]\n"
     ]
    }
   ],
   "source": [
    "# Descomentar para ver resultados\n",
    "print(cat_vars_embed_outs)\n",
    "print(cat_var_inputs)\n",
    "print(cont_vars_inputs)\n",
    "print(cont_vars_outs)"
   ]
  },
  {
   "cell_type": "code",
   "execution_count": 114,
   "metadata": {},
   "outputs": [],
   "source": [
    "first_hidden_units = 1000\n",
    "second_hidden_units = 500\n",
    "l2_lambda = 0\n",
    "merged = Concatenate(name='All_Concatenate')(cat_vars_embed_outs + cont_vars_inputs)\n",
    "x = Dense(first_hidden_units, kernel_initializer=\"uniform\", kernel_regularizer=l2(l2_lambda))(merged)\n",
    "# x = BatchNormalization()(x)\n",
    "x = Activation('relu')(x)\n",
    "# x = LeakyReLU()(x)\n",
    "x = Dense(second_hidden_units, kernel_initializer=\"uniform\", kernel_regularizer=l2(l2_lambda))(x)\n",
    "# x = BatchNormalization()(x)\n",
    "x = Activation('relu')(x)\n",
    "# x = LeakyReLU()(x)\n",
    "\n",
    "output_1 = Dense(1, name='Sales', activation=output_activation)(x)\n",
    "output_2 = Dense(1, name='Customers', activation=output_activation)(x)"
   ]
  },
  {
   "cell_type": "code",
   "execution_count": 115,
   "metadata": {},
   "outputs": [],
   "source": [
    "if add_customers:\n",
    "    model = Model(cat_var_inputs + cont_vars_inputs, [output_1, output_2])\n",
    "else: \n",
    "    model = Model(cat_var_inputs + cont_vars_inputs, [output_1])"
   ]
  },
  {
   "cell_type": "code",
   "execution_count": 116,
   "metadata": {},
   "outputs": [
    {
     "name": "stdout",
     "output_type": "stream",
     "text": [
      "Model: \"model_3\"\n",
      "__________________________________________________________________________________________________\n",
      " Layer (type)                   Output Shape         Param #     Connected to                     \n",
      "==================================================================================================\n",
      " Store_input (InputLayer)       [(None, 1)]          0           []                               \n",
      "                                                                                                  \n",
      " DayOfWeek_input (InputLayer)   [(None, 1)]          0           []                               \n",
      "                                                                                                  \n",
      " Year_input (InputLayer)        [(None, 1)]          0           []                               \n",
      "                                                                                                  \n",
      " Month_input (InputLayer)       [(None, 1)]          0           []                               \n",
      "                                                                                                  \n",
      " Day_input (InputLayer)         [(None, 1)]          0           []                               \n",
      "                                                                                                  \n",
      " StateHoliday_input (InputLayer  [(None, 1)]         0           []                               \n",
      " )                                                                                                \n",
      "                                                                                                  \n",
      " CompetitionMonthsOpen_input (I  [(None, 1)]         0           []                               \n",
      " nputLayer)                                                                                       \n",
      "                                                                                                  \n",
      " Promo2Weeks_input (InputLayer)  [(None, 1)]         0           []                               \n",
      "                                                                                                  \n",
      " StoreType_input (InputLayer)   [(None, 1)]          0           []                               \n",
      "                                                                                                  \n",
      " Assortment_input (InputLayer)  [(None, 1)]          0           []                               \n",
      "                                                                                                  \n",
      " PromoInterval_input (InputLaye  [(None, 1)]         0           []                               \n",
      " r)                                                                                               \n",
      "                                                                                                  \n",
      " CompetitionOpenSinceYear_input  [(None, 1)]         0           []                               \n",
      "  (InputLayer)                                                                                    \n",
      "                                                                                                  \n",
      " Promo2SinceYear_input (InputLa  [(None, 1)]         0           []                               \n",
      " yer)                                                                                             \n",
      "                                                                                                  \n",
      " State_input (InputLayer)       [(None, 1)]          0           []                               \n",
      "                                                                                                  \n",
      " Week_input (InputLayer)        [(None, 1)]          0           []                               \n",
      "                                                                                                  \n",
      " Events_input (InputLayer)      [(None, 1)]          0           []                               \n",
      "                                                                                                  \n",
      " Promo_fw_input (InputLayer)    [(None, 1)]          0           []                               \n",
      "                                                                                                  \n",
      " Promo_bw_input (InputLayer)    [(None, 1)]          0           []                               \n",
      "                                                                                                  \n",
      " StateHoliday_bool_fw_input (In  [(None, 1)]         0           []                               \n",
      " putLayer)                                                                                        \n",
      "                                                                                                  \n",
      " StateHoliday_bool_bw_input (In  [(None, 1)]         0           []                               \n",
      " putLayer)                                                                                        \n",
      "                                                                                                  \n",
      " SchoolHoliday_fw_input (InputL  [(None, 1)]         0           []                               \n",
      " ayer)                                                                                            \n",
      "                                                                                                  \n",
      " SchoolHoliday_bw_input (InputL  [(None, 1)]         0           []                               \n",
      " ayer)                                                                                            \n",
      "                                                                                                  \n",
      " Store_Embed (Embedding)        (None, 1, 10)        11150       ['Store_input[0][0]']            \n",
      "                                                                                                  \n",
      " DayOfWeek_Embed (Embedding)    (None, 1, 6)         42          ['DayOfWeek_input[0][0]']        \n",
      "                                                                                                  \n",
      " Year_Embed (Embedding)         (None, 1, 2)         6           ['Year_input[0][0]']             \n",
      "                                                                                                  \n",
      " Month_Embed (Embedding)        (None, 1, 6)         72          ['Month_input[0][0]']            \n",
      "                                                                                                  \n",
      " Day_Embed (Embedding)          (None, 1, 5)         155         ['Day_input[0][0]']              \n",
      "                                                                                                  \n",
      " StateHoliday_Embed (Embedding)  (None, 1, 4)        16          ['StateHoliday_input[0][0]']     \n",
      "                                                                                                  \n",
      " CompetitionMonthsOpen_Embed (E  (None, 1, 5)        125         ['CompetitionMonthsOpen_input[0][\n",
      " mbedding)                                                       0]']                             \n",
      "                                                                                                  \n",
      " Promo2Weeks_Embed (Embedding)  (None, 1, 5)         130         ['Promo2Weeks_input[0][0]']      \n",
      "                                                                                                  \n",
      " StoreType_Embed (Embedding)    (None, 1, 2)         8           ['StoreType_input[0][0]']        \n",
      "                                                                                                  \n",
      " Assortment_Embed (Embedding)   (None, 1, 3)         9           ['Assortment_input[0][0]']       \n",
      "                                                                                                  \n",
      " PromoInterval_Embed (Embedding  (None, 1, 3)        12          ['PromoInterval_input[0][0]']    \n",
      " )                                                                                                \n",
      "                                                                                                  \n",
      " CompetitionOpenSinceYear_Embed  (None, 1, 4)        84          ['CompetitionOpenSinceYear_input[\n",
      "  (Embedding)                                                    0][0]']                          \n",
      "                                                                                                  \n",
      " Promo2SinceYear_Embed (Embeddi  (None, 1, 4)        32          ['Promo2SinceYear_input[0][0]']  \n",
      " ng)                                                                                              \n",
      "                                                                                                  \n",
      " State_Embed (Embedding)        (None, 1, 6)         72          ['State_input[0][0]']            \n",
      "                                                                                                  \n",
      " Week_Embed (Embedding)         (None, 1, 10)        520         ['Week_input[0][0]']             \n",
      "                                                                                                  \n",
      " Events_Embed (Embedding)       (None, 1, 4)         88          ['Events_input[0][0]']           \n",
      "                                                                                                  \n",
      " Promo_fw_Embed (Embedding)     (None, 1, 2)         12          ['Promo_fw_input[0][0]']         \n",
      "                                                                                                  \n",
      " Promo_bw_Embed (Embedding)     (None, 1, 2)         12          ['Promo_bw_input[0][0]']         \n",
      "                                                                                                  \n",
      " StateHoliday_bool_fw_Embed (Em  (None, 1, 2)        6           ['StateHoliday_bool_fw_input[0][0\n",
      " bedding)                                                        ]']                              \n",
      "                                                                                                  \n",
      " StateHoliday_bool_bw_Embed (Em  (None, 1, 2)        6           ['StateHoliday_bool_bw_input[0][0\n",
      " bedding)                                                        ]']                              \n",
      "                                                                                                  \n",
      " SchoolHoliday_fw_Embed (Embedd  (None, 1, 2)        16          ['SchoolHoliday_fw_input[0][0]'] \n",
      " ing)                                                                                             \n",
      "                                                                                                  \n",
      " SchoolHoliday_bw_Embed (Embedd  (None, 1, 2)        16          ['SchoolHoliday_bw_input[0][0]'] \n",
      " ing)                                                                                             \n",
      "                                                                                                  \n",
      " Store_flat (Flatten)           (None, 10)           0           ['Store_Embed[0][0]']            \n",
      "                                                                                                  \n",
      " DayOfWeek_flat (Flatten)       (None, 6)            0           ['DayOfWeek_Embed[0][0]']        \n",
      "                                                                                                  \n",
      " Year_flat (Flatten)            (None, 2)            0           ['Year_Embed[0][0]']             \n",
      "                                                                                                  \n",
      " Month_flat (Flatten)           (None, 6)            0           ['Month_Embed[0][0]']            \n",
      "                                                                                                  \n",
      " Day_flat (Flatten)             (None, 5)            0           ['Day_Embed[0][0]']              \n",
      "                                                                                                  \n",
      " StateHoliday_flat (Flatten)    (None, 4)            0           ['StateHoliday_Embed[0][0]']     \n",
      "                                                                                                  \n",
      " CompetitionMonthsOpen_flat (Fl  (None, 5)           0           ['CompetitionMonthsOpen_Embed[0][\n",
      " atten)                                                          0]']                             \n",
      "                                                                                                  \n",
      " Promo2Weeks_flat (Flatten)     (None, 5)            0           ['Promo2Weeks_Embed[0][0]']      \n",
      "                                                                                                  \n",
      " StoreType_flat (Flatten)       (None, 2)            0           ['StoreType_Embed[0][0]']        \n",
      "                                                                                                  \n",
      " Assortment_flat (Flatten)      (None, 3)            0           ['Assortment_Embed[0][0]']       \n",
      "                                                                                                  \n",
      " PromoInterval_flat (Flatten)   (None, 3)            0           ['PromoInterval_Embed[0][0]']    \n",
      "                                                                                                  \n",
      " CompetitionOpenSinceYear_flat   (None, 4)           0           ['CompetitionOpenSinceYear_Embed[\n",
      " (Flatten)                                                       0][0]']                          \n",
      "                                                                                                  \n",
      " Promo2SinceYear_flat (Flatten)  (None, 4)           0           ['Promo2SinceYear_Embed[0][0]']  \n",
      "                                                                                                  \n",
      " State_flat (Flatten)           (None, 6)            0           ['State_Embed[0][0]']            \n",
      "                                                                                                  \n",
      " Week_flat (Flatten)            (None, 10)           0           ['Week_Embed[0][0]']             \n",
      "                                                                                                  \n",
      " Events_flat (Flatten)          (None, 4)            0           ['Events_Embed[0][0]']           \n",
      "                                                                                                  \n",
      " Promo_fw_flat (Flatten)        (None, 2)            0           ['Promo_fw_Embed[0][0]']         \n",
      "                                                                                                  \n",
      " Promo_bw_flat (Flatten)        (None, 2)            0           ['Promo_bw_Embed[0][0]']         \n",
      "                                                                                                  \n",
      " StateHoliday_bool_fw_flat (Fla  (None, 2)           0           ['StateHoliday_bool_fw_Embed[0][0\n",
      " tten)                                                           ]']                              \n",
      "                                                                                                  \n",
      " StateHoliday_bool_bw_flat (Fla  (None, 2)           0           ['StateHoliday_bool_bw_Embed[0][0\n",
      " tten)                                                           ]']                              \n",
      "                                                                                                  \n",
      " SchoolHoliday_fw_flat (Flatten  (None, 2)           0           ['SchoolHoliday_fw_Embed[0][0]'] \n",
      " )                                                                                                \n",
      "                                                                                                  \n",
      " SchoolHoliday_bw_flat (Flatten  (None, 2)           0           ['SchoolHoliday_bw_Embed[0][0]'] \n",
      " )                                                                                                \n",
      "                                                                                                  \n",
      " CompetitionDistance_input (Inp  [(None, 1)]         0           []                               \n",
      " utLayer)                                                                                         \n",
      "                                                                                                  \n",
      " Max_TemperatureC_input (InputL  [(None, 1)]         0           []                               \n",
      " ayer)                                                                                            \n",
      "                                                                                                  \n",
      " Precipitationmm_input (InputLa  [(None, 1)]         0           []                               \n",
      " yer)                                                                                             \n",
      "                                                                                                  \n",
      " All_Concatenate (Concatenate)  (None, 94)           0           ['Store_flat[0][0]',             \n",
      "                                                                  'DayOfWeek_flat[0][0]',         \n",
      "                                                                  'Year_flat[0][0]',              \n",
      "                                                                  'Month_flat[0][0]',             \n",
      "                                                                  'Day_flat[0][0]',               \n",
      "                                                                  'StateHoliday_flat[0][0]',      \n",
      "                                                                  'CompetitionMonthsOpen_flat[0][0\n",
      "                                                                 ]',                              \n",
      "                                                                  'Promo2Weeks_flat[0][0]',       \n",
      "                                                                  'StoreType_flat[0][0]',         \n",
      "                                                                  'Assortment_flat[0][0]',        \n",
      "                                                                  'PromoInterval_flat[0][0]',     \n",
      "                                                                  'CompetitionOpenSinceYear_flat[0\n",
      "                                                                 ][0]',                           \n",
      "                                                                  'Promo2SinceYear_flat[0][0]',   \n",
      "                                                                  'State_flat[0][0]',             \n",
      "                                                                  'Week_flat[0][0]',              \n",
      "                                                                  'Events_flat[0][0]',            \n",
      "                                                                  'Promo_fw_flat[0][0]',          \n",
      "                                                                  'Promo_bw_flat[0][0]',          \n",
      "                                                                  'StateHoliday_bool_fw_flat[0][0]\n",
      "                                                                 ',                               \n",
      "                                                                  'StateHoliday_bool_bw_flat[0][0]\n",
      "                                                                 ',                               \n",
      "                                                                  'SchoolHoliday_fw_flat[0][0]',  \n",
      "                                                                  'SchoolHoliday_bw_flat[0][0]',  \n",
      "                                                                  'CompetitionDistance_input[0][0]\n",
      "                                                                 ',                               \n",
      "                                                                  'Max_TemperatureC_input[0][0]', \n",
      "                                                                  'Precipitationmm_input[0][0]']  \n",
      "                                                                                                  \n",
      " dense_6 (Dense)                (None, 1000)         95000       ['All_Concatenate[0][0]']        \n",
      "                                                                                                  \n",
      " activation_6 (Activation)      (None, 1000)         0           ['dense_6[0][0]']                \n",
      "                                                                                                  \n",
      " dense_7 (Dense)                (None, 500)          500500      ['activation_6[0][0]']           \n",
      "                                                                                                  \n",
      " activation_7 (Activation)      (None, 500)          0           ['dense_7[0][0]']                \n",
      "                                                                                                  \n",
      " Sales (Dense)                  (None, 1)            501         ['activation_7[0][0]']           \n",
      "                                                                                                  \n",
      " Customers (Dense)              (None, 1)            501         ['activation_7[0][0]']           \n",
      "                                                                                                  \n",
      "==================================================================================================\n",
      "Total params: 609,091\n",
      "Trainable params: 609,091\n",
      "Non-trainable params: 0\n",
      "__________________________________________________________________________________________________\n"
     ]
    }
   ],
   "source": [
    "model.summary()"
   ]
  },
  {
   "cell_type": "code",
   "execution_count": 117,
   "metadata": {},
   "outputs": [],
   "source": [
    "model.save_weights('model/initial_weights.hdf5')"
   ]
  },
  {
   "cell_type": "code",
   "execution_count": 118,
   "metadata": {},
   "outputs": [
    {
     "name": "stdout",
     "output_type": "stream",
     "text": [
      "Cantidad en val: 30188, porcentaje: 0.9642465458145908\n"
     ]
    }
   ],
   "source": [
    "df_train = df[df.Date < datetime.datetime(2015, 7, 1)]  \n",
    "df_val = df[df.Date >= datetime.datetime(2015, 7, 1)]\n",
    "print(f'Cantidad en val: {len(df_val)}, porcentaje: {len(df_train)/(len(df_train) + len(df_val))}')"
   ]
  },
  {
   "cell_type": "code",
   "execution_count": 119,
   "metadata": {},
   "outputs": [
    {
     "name": "stderr",
     "output_type": "stream",
     "text": [
      "C:\\Users\\Usuario\\AppData\\Local\\Temp\\ipykernel_13572\\817407575.py:5: SettingWithCopyWarning: \n",
      "A value is trying to be set on a copy of a slice from a DataFrame.\n",
      "Try using .loc[row_indexer,col_indexer] = value instead\n",
      "\n",
      "See the caveats in the documentation: https://pandas.pydata.org/pandas-docs/stable/user_guide/indexing.html#returning-a-view-versus-a-copy\n",
      "  df_train.loc[:, 'mean_by_store'] = df_train['Store'].apply(stores_mean.get)\n",
      "C:\\Users\\Usuario\\AppData\\Local\\Temp\\ipykernel_13572\\817407575.py:6: SettingWithCopyWarning: \n",
      "A value is trying to be set on a copy of a slice from a DataFrame.\n",
      "Try using .loc[row_indexer,col_indexer] = value instead\n",
      "\n",
      "See the caveats in the documentation: https://pandas.pydata.org/pandas-docs/stable/user_guide/indexing.html#returning-a-view-versus-a-copy\n",
      "  df_val.loc[:, 'mean_by_store'] = df_val['Store'].apply(stores_mean.get)\n",
      "C:\\Users\\Usuario\\AppData\\Local\\Temp\\ipykernel_13572\\817407575.py:8: SettingWithCopyWarning: \n",
      "A value is trying to be set on a copy of a slice from a DataFrame.\n",
      "Try using .loc[row_indexer,col_indexer] = value instead\n",
      "\n",
      "See the caveats in the documentation: https://pandas.pydata.org/pandas-docs/stable/user_guide/indexing.html#returning-a-view-versus-a-copy\n",
      "  df_train.loc[:, 'Sales_store'] = df_train['Sales'] - df_train['mean_by_store']\n",
      "C:\\Users\\Usuario\\AppData\\Local\\Temp\\ipykernel_13572\\817407575.py:9: SettingWithCopyWarning: \n",
      "A value is trying to be set on a copy of a slice from a DataFrame.\n",
      "Try using .loc[row_indexer,col_indexer] = value instead\n",
      "\n",
      "See the caveats in the documentation: https://pandas.pydata.org/pandas-docs/stable/user_guide/indexing.html#returning-a-view-versus-a-copy\n",
      "  df_val.loc[:, 'Sales_store'] = df_val['Sales'] - df_val['mean_by_store']\n"
     ]
    }
   ],
   "source": [
    "stores_mean = {}\n",
    "for store, g_df in df_train.groupby('Store'):\n",
    "    stores_mean[store] = g_df[g_df['Sales'] > 0]['Sales'].mean()\n",
    "\n",
    "df_train.loc[:, 'mean_by_store'] = df_train['Store'].apply(stores_mean.get)\n",
    "df_val.loc[:, 'mean_by_store'] = df_val['Store'].apply(stores_mean.get)\n",
    "\n",
    "df_train.loc[:, 'Sales_store'] = df_train['Sales'] - df_train['mean_by_store']\n",
    "df_val.loc[:, 'Sales_store'] = df_val['Sales'] - df_val['mean_by_store']"
   ]
  },
  {
   "cell_type": "code",
   "execution_count": 120,
   "metadata": {},
   "outputs": [
    {
     "data": {
      "text/plain": [
       "0.3071746085338871"
      ]
     },
     "execution_count": 120,
     "metadata": {},
     "output_type": "execute_result"
    }
   ],
   "source": [
    "from tensorflow.keras import backend as K\n",
    "\n",
    "def rmspe(y_true, y_pred):\n",
    "    return K.sqrt(K.mean(K.square((y_true - y_pred)/y_true)))\n",
    "def get_metric(df, sales_):\n",
    "    return np.sqrt((((df['Sales'] - sales_)/df['Sales'])**2).mean())\n",
    "    \n",
    "get_metric(df_val, df_val['mean_by_store'])"
   ]
  },
  {
   "cell_type": "markdown",
   "metadata": {},
   "source": [
    "Train"
   ]
  },
  {
   "cell_type": "code",
   "execution_count": 121,
   "metadata": {},
   "outputs": [],
   "source": [
    "all_vars = cat_vars + contin_vars\n",
    "X_train = np.hsplit(df_train[all_vars].values, len(all_vars))\n",
    "X_val = np.hsplit(df_val[all_vars].values, len(all_vars))\n",
    "X_test = np.hsplit(df_test[all_vars].values, len(all_vars))"
   ]
  },
  {
   "cell_type": "code",
   "execution_count": 122,
   "metadata": {},
   "outputs": [
    {
     "name": "stderr",
     "output_type": "stream",
     "text": [
      "c:\\Users\\Usuario\\Documents\\TP1_RossmannStoreSales\\venv\\lib\\site-packages\\numpy\\core\\fromnumeric.py:84: FutureWarning: In a future version, DataFrame.max(axis=None) will return a scalar max over the entire DataFrame. To retain the old behavior, use 'frame.max(axis=0)' or just 'frame.max()'\n",
      "  return reduction(axis=axis, out=out, **passkwargs)\n"
     ]
    }
   ],
   "source": [
    "# Anotaciones\n",
    "\n",
    "if add_customers:\n",
    "    y_out_columns = ['Sales', 'Customers']\n",
    "else:\n",
    "    y_out_columns = ['Sales_store']\n",
    "    \n",
    "if log_output:\n",
    "    # Escala logaritmica\n",
    "    max_log_y = np.max(np.log(df[y_out_columns])).values\n",
    "    y_train = np.log(df_train[y_out_columns].values)/max_log_y\n",
    "    y_val = np.log(df_val[y_out_columns].values)/max_log_y\n",
    "else:\n",
    "    # Normalización\n",
    "    y_mean = df_train[y_out_columns].mean().values\n",
    "    y_std = df_train[y_out_columns].std().values\n",
    "    y_train = (df_train[y_out_columns].values - y_mean)/y_std\n",
    "    y_val = (df_val[y_out_columns].values - y_mean)/y_std\n",
    "    y_max = df_train[y_out_columns].max().values\n",
    "    y_train = df_train[y_out_columns].values/y_max\n",
    "    y_val = df_val[y_out_columns].values/y_max\n",
    "y_train = np.hsplit(y_train, y_train.shape[1])\n",
    "y_val = np.hsplit(y_val, y_val.shape[1])"
   ]
  },
  {
   "cell_type": "code",
   "execution_count": 123,
   "metadata": {},
   "outputs": [],
   "source": [
    "lr = 0.001\n",
    "model.compile(optimizer=Adam(learning_rate=lr), metrics=['mse', rmspe], loss='mse')"
   ]
  },
  {
   "cell_type": "code",
   "execution_count": 124,
   "metadata": {},
   "outputs": [],
   "source": [
    "if add_customers:\n",
    "    checkpoint = ModelCheckpoint('bestmodel.hdf5', monitor='val_Sales_mse', verbose=1, save_best_only=True)\n",
    "else:\n",
    "    checkpoint = ModelCheckpoint('bestmodel.hdf5', monitor='val_loss', verbose=1, save_best_only=True)"
   ]
  },
  {
   "cell_type": "code",
   "execution_count": 125,
   "metadata": {},
   "outputs": [
    {
     "name": "stdout",
     "output_type": "stream",
     "text": [
      "Epoch 1/10\n",
      "\n",
      "Epoch 1: val_Sales_mse improved from inf to 0.00027, saving model to bestmodel.hdf5\n",
      "3181/3181 - 63s - loss: 0.0024 - Sales_loss: 0.0012 - Customers_loss: 0.0012 - Sales_mse: 0.0012 - Sales_rmspe: 0.0246 - Customers_mse: 0.0012 - Customers_rmspe: 0.0281 - val_loss: 4.5299e-04 - val_Sales_loss: 2.7311e-04 - val_Customers_loss: 1.7988e-04 - val_Sales_mse: 2.7311e-04 - val_Sales_rmspe: 0.0195 - val_Customers_mse: 1.7988e-04 - val_Customers_rmspe: 0.0182 - 63s/epoch - 20ms/step\n",
      "Epoch 2/10\n",
      "\n",
      "Epoch 2: val_Sales_mse improved from 0.00027 to 0.00018, saving model to bestmodel.hdf5\n",
      "3181/3181 - 61s - loss: 3.2417e-04 - Sales_loss: 1.6334e-04 - Customers_loss: 1.6082e-04 - Sales_mse: 1.6334e-04 - Sales_rmspe: 0.0156 - Customers_mse: 1.6082e-04 - Customers_rmspe: 0.0176 - val_loss: 3.9579e-04 - val_Sales_loss: 1.8356e-04 - val_Customers_loss: 2.1223e-04 - val_Sales_mse: 1.8356e-04 - val_Sales_rmspe: 0.0160 - val_Customers_mse: 2.1223e-04 - val_Customers_rmspe: 0.0195 - 61s/epoch - 19ms/step\n",
      "Epoch 3/10\n",
      "\n",
      "Epoch 3: val_Sales_mse improved from 0.00018 to 0.00013, saving model to bestmodel.hdf5\n",
      "3181/3181 - 60s - loss: 2.4310e-04 - Sales_loss: 1.2261e-04 - Customers_loss: 1.2049e-04 - Sales_mse: 1.2261e-04 - Sales_rmspe: 0.0136 - Customers_mse: 1.2049e-04 - Customers_rmspe: 0.0153 - val_loss: 2.5212e-04 - val_Sales_loss: 1.3454e-04 - val_Customers_loss: 1.1757e-04 - val_Sales_mse: 1.3454e-04 - val_Sales_rmspe: 0.0139 - val_Customers_mse: 1.1757e-04 - val_Customers_rmspe: 0.0148 - 60s/epoch - 19ms/step\n",
      "Epoch 4/10\n",
      "\n",
      "Epoch 4: val_Sales_mse improved from 0.00013 to 0.00012, saving model to bestmodel.hdf5\n",
      "3181/3181 - 61s - loss: 2.0951e-04 - Sales_loss: 1.0605e-04 - Customers_loss: 1.0346e-04 - Sales_mse: 1.0605e-04 - Sales_rmspe: 0.0126 - Customers_mse: 1.0346e-04 - Customers_rmspe: 0.0142 - val_loss: 2.4030e-04 - val_Sales_loss: 1.1650e-04 - val_Customers_loss: 1.2380e-04 - val_Sales_mse: 1.1650e-04 - val_Sales_rmspe: 0.0131 - val_Customers_mse: 1.2380e-04 - val_Customers_rmspe: 0.0152 - 61s/epoch - 19ms/step\n",
      "Epoch 5/10\n",
      "\n",
      "Epoch 5: val_Sales_mse did not improve from 0.00012\n",
      "3181/3181 - 64s - loss: 1.8805e-04 - Sales_loss: 9.5536e-05 - Customers_loss: 9.2514e-05 - Sales_mse: 9.5536e-05 - Sales_rmspe: 0.0120 - Customers_mse: 9.2514e-05 - Customers_rmspe: 0.0134 - val_loss: 2.3411e-04 - val_Sales_loss: 1.2002e-04 - val_Customers_loss: 1.1409e-04 - val_Sales_mse: 1.2002e-04 - val_Sales_rmspe: 0.0132 - val_Customers_mse: 1.1409e-04 - val_Customers_rmspe: 0.0146 - 64s/epoch - 20ms/step\n",
      "Epoch 6/10\n",
      "\n",
      "Epoch 6: val_Sales_mse did not improve from 0.00012\n",
      "3181/3181 - 68s - loss: 1.7329e-04 - Sales_loss: 8.8440e-05 - Customers_loss: 8.4848e-05 - Sales_mse: 8.8440e-05 - Sales_rmspe: 0.0115 - Customers_mse: 8.4848e-05 - Customers_rmspe: 0.0128 - val_loss: 2.2308e-04 - val_Sales_loss: 1.2035e-04 - val_Customers_loss: 1.0273e-04 - val_Sales_mse: 1.2035e-04 - val_Sales_rmspe: 0.0132 - val_Customers_mse: 1.0273e-04 - val_Customers_rmspe: 0.0138 - 68s/epoch - 21ms/step\n",
      "Epoch 7/10\n",
      "\n",
      "Epoch 7: val_Sales_mse did not improve from 0.00012\n",
      "3181/3181 - 65s - loss: 1.6303e-04 - Sales_loss: 8.3476e-05 - Customers_loss: 7.9558e-05 - Sales_mse: 8.3476e-05 - Sales_rmspe: 0.0112 - Customers_mse: 7.9558e-05 - Customers_rmspe: 0.0124 - val_loss: 2.2886e-04 - val_Sales_loss: 1.2500e-04 - val_Customers_loss: 1.0386e-04 - val_Sales_mse: 1.2500e-04 - val_Sales_rmspe: 0.0133 - val_Customers_mse: 1.0386e-04 - val_Customers_rmspe: 0.0138 - 65s/epoch - 20ms/step\n",
      "Epoch 8/10\n",
      "\n",
      "Epoch 8: val_Sales_mse did not improve from 0.00012\n",
      "3181/3181 - 66s - loss: 1.5670e-04 - Sales_loss: 8.0469e-05 - Customers_loss: 7.6228e-05 - Sales_mse: 8.0469e-05 - Sales_rmspe: 0.0110 - Customers_mse: 7.6228e-05 - Customers_rmspe: 0.0122 - val_loss: 4.0225e-04 - val_Sales_loss: 2.0731e-04 - val_Customers_loss: 1.9494e-04 - val_Sales_mse: 2.0731e-04 - val_Sales_rmspe: 0.0169 - val_Customers_mse: 1.9494e-04 - val_Customers_rmspe: 0.0186 - 66s/epoch - 21ms/step\n",
      "Epoch 9/10\n",
      "\n",
      "Epoch 9: val_Sales_mse did not improve from 0.00012\n",
      "3181/3181 - 63s - loss: 1.5185e-04 - Sales_loss: 7.7930e-05 - Customers_loss: 7.3916e-05 - Sales_mse: 7.7930e-05 - Sales_rmspe: 0.0108 - Customers_mse: 7.3916e-05 - Customers_rmspe: 0.0120 - val_loss: 2.7527e-04 - val_Sales_loss: 1.4884e-04 - val_Customers_loss: 1.2643e-04 - val_Sales_mse: 1.4884e-04 - val_Sales_rmspe: 0.0143 - val_Customers_mse: 1.2643e-04 - val_Customers_rmspe: 0.0150 - 63s/epoch - 20ms/step\n",
      "Epoch 10/10\n",
      "\n",
      "Epoch 10: val_Sales_mse did not improve from 0.00012\n",
      "3181/3181 - 63s - loss: 1.4710e-04 - Sales_loss: 7.5692e-05 - Customers_loss: 7.1409e-05 - Sales_mse: 7.5692e-05 - Sales_rmspe: 0.0107 - Customers_mse: 7.1409e-05 - Customers_rmspe: 0.0118 - val_loss: 2.5119e-04 - val_Sales_loss: 1.3088e-04 - val_Customers_loss: 1.2031e-04 - val_Sales_mse: 1.3088e-04 - val_Sales_rmspe: 0.0136 - val_Customers_mse: 1.2031e-04 - val_Customers_rmspe: 0.0149 - 63s/epoch - 20ms/step\n"
     ]
    }
   ],
   "source": [
    "epochs = 10\n",
    "batch_size = 256\n",
    "history = model.fit(X_train, y_train, validation_data=(X_val, y_val),  epochs=epochs, batch_size=batch_size, callbacks=[checkpoint], verbose=2)"
   ]
  },
  {
   "cell_type": "code",
   "execution_count": 126,
   "metadata": {},
   "outputs": [
    {
     "data": {
      "image/png": "[encoded data removed]",
      "text/plain": [
       "<Figure size 432x288 with 1 Axes>"
      ]
     },
     "metadata": {
      "needs_background": "light"
     },
     "output_type": "display_data"
    },
    {
     "data": {
      "text/plain": [
       "[<matplotlib.lines.Line2D at 0x1a2ae9e5450>]"
      ]
     },
     "execution_count": 126,
     "metadata": {},
     "output_type": "execute_result"
    },
    {
     "data": {
      "image/png": "[encoded data removed]",
      "text/plain": [
       "<Figure size 432x288 with 1 Axes>"
      ]
     },
     "metadata": {
      "needs_background": "light"
     },
     "output_type": "display_data"
    }
   ],
   "source": [
    "from matplotlib import pyplot as plt\n",
    "\n",
    "plt.plot(history.history['val_loss'])\n",
    "# plt.plot(history.history['val_Customers_mse'])\n",
    "# plt.plot(history.history['val_Sales_mse'])\n",
    "plt.show()\n",
    "plt.plot(history.history['loss'])\n",
    "# plt.plot(history.history['Customers_mse'])\n",
    "# plt.plot(history.history['Sales_mse'])"
   ]
  },
  {
   "cell_type": "markdown",
   "metadata": {},
   "source": [
    "Evaluate\n"
   ]
  },
  {
   "cell_type": "code",
   "execution_count": 127,
   "metadata": {},
   "outputs": [
    {
     "name": "stdout",
     "output_type": "stream",
     "text": [
      "944/944 [==============================] - 4s 4ms/step - loss: 2.4030e-04 - Sales_loss: 1.1650e-04 - Customers_loss: 1.2380e-04 - Sales_mse: 1.1650e-04 - Sales_rmspe: 0.0128 - Customers_mse: 1.2380e-04 - Customers_rmspe: 0.0149\n"
     ]
    },
    {
     "data": {
      "text/plain": [
       "[0.00024030070926528424,\n",
       " 0.00011649873340502381,\n",
       " 0.0001238020195160061,\n",
       " 0.00011649873340502381,\n",
       " 0.012847675010561943,\n",
       " 0.0001238020195160061,\n",
       " 0.014913570135831833]"
      ]
     },
     "execution_count": 127,
     "metadata": {},
     "output_type": "execute_result"
    }
   ],
   "source": [
    "model.load_weights('bestmodel.hdf5')\n",
    "model.evaluate(X_val, y_val)"
   ]
  },
  {
   "cell_type": "code",
   "execution_count": 128,
   "metadata": {},
   "outputs": [
    {
     "name": "stdout",
     "output_type": "stream",
     "text": [
      "944/944 [==============================] - 4s 4ms/step - loss: 2.4030e-04 - Sales_loss: 1.1650e-04 - Customers_loss: 1.2380e-04 - Sales_mse: 1.1650e-04 - Sales_rmspe: 0.0128 - Customers_mse: 1.2380e-04 - Customers_rmspe: 0.0149\n"
     ]
    },
    {
     "data": {
      "text/plain": [
       "[0.00024030070926528424,\n",
       " 0.00011649873340502381,\n",
       " 0.0001238020195160061,\n",
       " 0.00011649873340502381,\n",
       " 0.012847675010561943,\n",
       " 0.0001238020195160061,\n",
       " 0.014913570135831833]"
      ]
     },
     "execution_count": 128,
     "metadata": {},
     "output_type": "execute_result"
    }
   ],
   "source": [
    "model.evaluate(X_val, y_val)"
   ]
  },
  {
   "cell_type": "markdown",
   "metadata": {},
   "source": [
    "Predict"
   ]
  },
  {
   "cell_type": "code",
   "execution_count": 129,
   "metadata": {},
   "outputs": [
    {
     "name": "stdout",
     "output_type": "stream",
     "text": [
      "944/944 [==============================] - 4s 4ms/step\n",
      "1284/1284 [==============================] - 8s 6ms/step\n"
     ]
    }
   ],
   "source": [
    "if log_output:\n",
    "    if add_customers:\n",
    "        y_pred = np.exp(model.predict(X_val, verbose=1)[0][:, 0]*max_log_y[0])\n",
    "        y_pred_test = np.exp(model.predict(X_test, verbose=1)[0][:, 0]*max_log_y[0])\n",
    "    else:\n",
    "        y_pred = np.exp(model.predict(X_val, verbose=1)*max_log_y)[:,0]\n",
    "        y_pred_test = np.exp(model.predict(X_test, verbose=1)*max_log_y)[:,0]\n",
    "else:\n",
    "    if add_customers:\n",
    "        y_pred = (model.predict(X_val, verbose=1)[0]*y_std[0] + y_mean[0])[:,0]\n",
    "        y_pred_test = (model.predict(X_test, verbose=1)[0]*y_std[0] + y_mean[0])[:,0]\n",
    "    else:\n",
    "#         y_pred = model.predict(X_val, verbose=1)[:,0]*y_std + y_mean\n",
    "#         y_pred_test = model.predict(X_test, verbose=1)[:,0]*y_std + y_mean\n",
    "        y_pred = model.predict(X_val, verbose=1)[:,0]*y_max\n",
    "        y_pred_test = model.predict(X_test, verbose=1)[:,0]*y_max\n",
    "y_pred_test[df_test['Open'] == 0] = 0"
   ]
  },
  {
   "cell_type": "markdown",
   "metadata": {},
   "source": [
    "## Métrica\n",
    "\n",
    "Mean Square Error -> es menor en tanto la suma de las predicciones es igual a la suma de los valores reales. Es decir que genera un predicción insesgada. La magnitud de MSE depende de las magnitudes y la unidad no es la misma que la de las observaciones/predicciones.\n",
    "\n",
    "Root Mean Square Error -> se toma la raíiz cuadrada del MSE para tener la misma unidad que la observaciones. Así se tiene una idea de la distancia cuadrática media entre la predicción y la realidad en las unidades correctas. Como penaliza los errores grandes más que el MAE, también es más sensible a outliers.\n",
    "\n",
    "Root Mean Square Percentage Error -> la diferencia con RMSE es que se suman los cuadrados de los errores porcentuales. Entonces nos da una idea del error porcentual que tiene una medición. La ventaja es que al ser porcentual, es una buena medida de qué tan buenas son las predicciones en relación a las observaciones.\n",
    "\n",
    "Mean Absolute Error -> es menor en tanto las predicciones queden en torno a la mediana. Por lo tanto, tiende a tener sesgo.\n",
    "\n",
    "https://towardsdatascience.com/forecast-kpi-rmse-mae-mape-bias-cdc5703d242d\n",
    "https://s2.smu.edu/tfomby/eco5385_eco6380/lecture/Scoring%20Measures%20for%20Prediction%20Problems.pdf\n",
    "\n",
    "\n",
    "\n",
    "La métrica de la competencia es RMSPE ya que es de interés que las predicciones estén lo más cerca posible de las ventas reales porcentualmente (no es lo mismo 100$ de error en 1000$ de ventas que en 20000$)"
   ]
  },
  {
   "cell_type": "code",
   "execution_count": 138,
   "metadata": {},
   "outputs": [
    {
     "data": {
      "text/plain": [
       "0.11944965401989534"
      ]
     },
     "execution_count": 138,
     "metadata": {},
     "output_type": "execute_result"
    }
   ],
   "source": [
    "np.sqrt((((df_val['Sales'].values - y_pred) / df_val['Sales'].values)**2).sum()/len(y_pred))"
   ]
  },
  {
   "cell_type": "code",
   "execution_count": 139,
   "metadata": {},
   "outputs": [
    {
     "data": {
      "text/plain": [
       "101.7392712738777"
      ]
     },
     "execution_count": 139,
     "metadata": {},
     "output_type": "execute_result"
    }
   ],
   "source": [
    "# bias\n",
    "np.sum((df_val['Sales'].values - y_pred))/len(y_pred)"
   ]
  },
  {
   "cell_type": "markdown",
   "metadata": {},
   "source": [
    "## Submission"
   ]
  },
  {
   "cell_type": "code",
   "execution_count": 140,
   "metadata": {},
   "outputs": [],
   "source": [
    "sample_csv = pd.read_csv('data/sample_submission.csv')"
   ]
  },
  {
   "cell_type": "code",
   "execution_count": 141,
   "metadata": {},
   "outputs": [],
   "source": [
    "sample_csv['Sales'] = y_pred_test\n",
    "sample_csv.head()\n",
    "\n",
    "sample_csv.to_csv(f'submissions/submission_.csv', index=0)"
   ]
  },
  {
   "cell_type": "markdown",
   "metadata": {},
   "source": [
    "## Análisis de Embeddings"
   ]
  },
  {
   "cell_type": "code",
   "execution_count": 142,
   "metadata": {},
   "outputs": [],
   "source": [
    "model.load_weights('bestmodel.hdf5')"
   ]
  },
  {
   "cell_type": "code",
   "execution_count": 136,
   "metadata": {},
   "outputs": [],
   "source": [
    "from sklearn.manifold import TSNE"
   ]
  },
  {
   "cell_type": "code",
   "execution_count": 137,
   "metadata": {},
   "outputs": [
    {
     "data": {
      "text/plain": [
       "['Store',\n",
       " 'DayOfWeek',\n",
       " 'Year',\n",
       " 'Month',\n",
       " 'Day',\n",
       " 'StateHoliday',\n",
       " 'CompetitionMonthsOpen',\n",
       " 'Promo2Weeks',\n",
       " 'StoreType',\n",
       " 'Assortment',\n",
       " 'PromoInterval',\n",
       " 'CompetitionOpenSinceYear',\n",
       " 'Promo2SinceYear',\n",
       " 'State',\n",
       " 'Week',\n",
       " 'Events',\n",
       " 'Promo_fw',\n",
       " 'Promo_bw',\n",
       " 'StateHoliday_bool_fw',\n",
       " 'StateHoliday_bool_bw',\n",
       " 'SchoolHoliday_fw',\n",
       " 'SchoolHoliday_bw']"
      ]
     },
     "execution_count": 137,
     "metadata": {},
     "output_type": "execute_result"
    }
   ],
   "source": [
    "cat_vars"
   ]
  },
  {
   "cell_type": "code",
   "execution_count": null,
   "metadata": {},
   "outputs": [],
   "source": [
    "\n",
    "tsne = TSNE(n_components=2, random_state=1, learning_rate=10, n_iter=10000)\n",
    "NAMES = {\n",
    "    \"DayOfWeek\": ['Mon', 'Tue', 'Wed', 'Thu', 'Fri', 'Sat','Sun'],\n",
    "    \"Month\": list(range(1,13)),\n",
    "    \"Year\": [\"2013\", \"2014\", \"2015\"],\n",
    "    \"State\": [\"BE\", \"BW\", \"BY\", \"HB,NI\", \"HE\", \"HH\", \"NW\", \"RP\", \"SH\", \"SN\", \"ST\", \"TH\"],\n",
    "    \"StateHoliday\": [\"a\", \"b\", \"c\", \"0\"],\n",
    "    \"StoreType\": [\"a\", \"b\", \"c\", \"d\"],\n",
    "}\n",
    "\n",
    "for var in cat_vars:\n",
    "    embedding = var + \"_Embed\"\n",
    "    matrix = model.get_layer(embedding).get_weights()[0]\n",
    "\n",
    "    Y = tsne.fit_transform(matrix)\n",
    "    names = NAMES.get(var)\n",
    "\n",
    "    plt.figure(figsize=(8,8))\n",
    "    plt.scatter(-Y[:, 0], -Y[:, 1])\n",
    "    if names is not None:\n",
    "        for i, txt in enumerate(names):\n",
    "            plt.annotate(txt, (-Y[i, 0],-Y[i, 1]), xytext = (-5, 8), textcoords = 'offset points')\n",
    "    plt.savefig(f\"embeddings/{embedding}.svg\")\n"
   ]
  }
 ],
 "metadata": {
  "interpreter": {
   "hash": "44a978da1d620fb13f15ce9aebf8e2ac9ae1f81de96632a6aad8fbd92b36fc7d"
  },
  "kernelspec": {
   "display_name": "Python 3.10.0 64-bit ('venv': venv)",
   "language": "python",
   "name": "python3"
  },
  "language_info": {
   "codemirror_mode": {
    "name": "ipython",
    "version": 3
   },
   "file_extension": ".py",
   "mimetype": "text/x-python",
   "name": "python",
   "nbconvert_exporter": "python",
   "pygments_lexer": "ipython3",
   "version": "3.10.0"
  },
  "orig_nbformat": 4
 },
 "nbformat": 4,
 "nbformat_minor": 2
}
